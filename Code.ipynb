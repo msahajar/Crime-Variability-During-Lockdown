{
 "cells": [
  {
   "cell_type": "markdown",
   "metadata": {},
   "source": [
    "# 1. Importing Libraries"
   ]
  },
  {
   "cell_type": "code",
   "execution_count": null,
   "metadata": {},
   "outputs": [],
   "source": [
    "import pandas as pd\n",
    "import matplotlib.pyplot as plt\n",
    "import numpy as np\n",
    "import seaborn as sns\n",
    "from datetime import datetime\n",
    "import glob\n",
    "import calendar\n",
    "import geopandas as gpd\n",
    "from shapely.geometry import Point\n",
    "import json\n",
    "from bokeh.io import output_notebook, show, output_file\n",
    "from bokeh.plotting import figure\n",
    "from bokeh.models import GeoJSONDataSource, LinearColorMapper, ColorBar\n",
    "from bokeh.palettes import brewer\n",
    "from bokeh.io import curdoc, output_notebook\n",
    "from bokeh.models import Slider, HoverTool\n",
    "from bokeh.layouts import widgetbox, row, column\n",
    "%matplotlib inline"
   ]
  },
  {
   "cell_type": "markdown",
   "metadata": {},
   "source": [
    "# 2. Consolidation of Data"
   ]
  },
  {
   "cell_type": "code",
   "execution_count": null,
   "metadata": {
    "scrolled": true
   },
   "outputs": [],
   "source": [
    "df1= pd.DataFrame()\n",
    "for i in glob.glob('Data/Crime_Statistics/*.csv'):\n",
    "    df=pd.read_csv(i)\n",
    "    df1=df1.append(df,ignore_index=True)\n",
    "df1.to_csv('Data/Crime_data.csv')    "
   ]
  },
  {
   "cell_type": "markdown",
   "metadata": {},
   "source": [
    "# 3. Initial Study of Dataset"
   ]
  },
  {
   "cell_type": "code",
   "execution_count": null,
   "metadata": {
    "scrolled": false
   },
   "outputs": [],
   "source": [
    "df_lib=pd.read_csv('Data/Crime_data.csv', index_col = 'Reported Date', parse_dates=True)\n",
    "df_lib.drop(columns=['Unnamed: 0','Offence Level 1 Description','Offence Level 3 Description'], inplace=True)\n",
    "df_lib.rename(columns={'Suburb - Incident':'Suburb', 'Postcode - Incident':'Postcode', 'Offence Level 2 Description':'Offence', 'Offence count':'Count'}, inplace=True)\n",
    "df_lib=df_lib.dropna()\n",
    "df_lib=df_lib.sort_index().truncate(before='2012-01-01', after='2020-03-31')\n",
    "pivot_lib=pd.pivot_table(df_lib, values=['Count'], index=(['Reported Date']), columns=['Offence'], aggfunc=np.sum)\n",
    "pivot_lib.plot(figsize=(25,8), title='Offences Reported from 2012 to present')"
   ]
  },
  {
   "cell_type": "markdown",
   "metadata": {},
   "source": [
    "# 4. Function I"
   ]
  },
  {
   "cell_type": "code",
   "execution_count": null,
   "metadata": {
    "scrolled": false
   },
   "outputs": [],
   "source": [
    "def SA_Suburbwise_MontlyAvg_performance (offence):\n",
    "    \n",
    "#   1.  Read file\n",
    "\n",
    "    df_lib=pd.read_csv('Data/Crime_data.csv', parse_dates=True)\n",
    "    SA_suburbs=gpd.read_file('Data/GreaterAdelaideRegion_Suburbs.shp')\n",
    "    \n",
    "#   2.  Clean Data\n",
    "\n",
    "    df_lib.drop(columns=['Unnamed: 0','Offence Level 1 Description','Offence Level 3 Description'], inplace=True)\n",
    "    df_lib.rename(columns={'Suburb - Incident':'Suburb', 'Postcode - Incident':'Postcode', 'Offence Level 2 Description':'Offence', 'Offence count':'Count'}, inplace=True)\n",
    "    df_lib=df_lib.dropna()\n",
    "    df_lib['Day'],df_lib['Month'],df_lib['Year']= df_lib['Reported Date'].str.split('/',2).str\n",
    "    df_lib['Month']=df_lib['Month'].astype(int)\n",
    "    df_lib['Month'] = df_lib['Month'].apply(lambda x: calendar.month_abbr[x])#converting to string from 01 to Jan\n",
    "    \n",
    "#   3.  Data filtering for paramters in the function\n",
    "\n",
    "    df_year_offence=df_lib[(df_lib['Offence']==offence)]\n",
    "\n",
    "#   4. Grouping and Calculation\n",
    "\n",
    "    df_year_offence_monthly=df_year_offence.groupby(['Year','Suburb', 'Month']).agg({'Count':np.sum})#Monthly total offences recorded\n",
    "    df_year_offence_monthly=df_year_offence_monthly.reset_index()\n",
    "    \n",
    "    pivot=pd.pivot_table(df_year_offence_monthly, values=['Count'], index=['Year','Suburb'], aggfunc=np.mean)#Monthly average offences recorded each year\n",
    "    pivot=pivot.reset_index()\n",
    "    \n",
    "#   5. Interactive Map\n",
    "\n",
    "#   5.1. Sub-filter by Year using another function inside the function\n",
    "\n",
    "    def json_data(selectedYear):\n",
    "        yr = selectedYear\n",
    "        df_yr = pivot[pivot['Year'] == yr]\n",
    "        merged = SA_suburbs.merge(pivot, left_on = 'suburb', right_on = 'Suburb', how = 'left')#Merging csv data to shp\n",
    "        merged_json = json.loads(merged.to_json())#converting to json file to make it interactive\n",
    "        json_data = json.dumps(merged_json)\n",
    "        return json_data\n",
    "    geosource = GeoJSONDataSource(geojson = json_data(2020))\n",
    "    \n",
    "#   6. Plotting\n",
    "    \n",
    "    palette = brewer['YlGnBu'][8]\n",
    "    palette = palette[::-1]\n",
    "    color_mapper = LinearColorMapper(palette = palette, low = 0, high = 350)\n",
    "    hover = HoverTool(tooltips = [ ('Suburb','@suburb'),('Offence Count', '@Count'), ('Year','@Year')])#To display the data when cursor placed on a polygon\n",
    "    color_bar = ColorBar(color_mapper=color_mapper, label_standoff=8,width = 500, height = 20, border_line_color=None,location = (0,0), orientation = 'horizontal')\n",
    "    p = figure(title = 'Monthly average Recorded %s' %offence, plot_height = 800 , plot_width = 950, toolbar_location = None, tools=[hover])\n",
    "    p.xgrid.grid_line_color = None\n",
    "    p.ygrid.grid_line_color = None\n",
    "    p.patches('xs','ys', source = geosource,fill_color = {'field' :'Count', 'transform' : color_mapper}, line_color = 'black', line_width = 0.25, fill_alpha = 1)\n",
    "    p.add_layout(color_bar, 'below')\n",
    "    \n",
    "    def update_plot(attr, old, new):#Callback function to update the plot\n",
    "        yr = slider.value\n",
    "        new_data = json_data(yr)\n",
    "        geosource.geojson = new_data\n",
    "        p.title.text = 'Suburb-wise %s Count for %s' %(offence, yr)\n",
    "    \n",
    "    slider = Slider(title = 'Year',start = 2011, end = 2020, step = 1, value = 2020)\n",
    "    slider.on_change('value', update_plot)\n",
    "    \n",
    "    layout = column(p,widgetbox(slider))\n",
    "    curdoc().add_root(layout)\n",
    "    \n",
    "    output_notebook()\n",
    "    \n",
    "    show(layout)\n",
    "    \n",
    "    print(pivot)\n",
    "    print(df_year_offence_monthly[(df_year_offence_monthly['Suburb']=='ADELAIDE')])\n",
    "SA_Suburbwise_MontlyAvg_performance ('THEFT AND RELATED OFFENCES')"
   ]
  },
  {
   "cell_type": "markdown",
   "metadata": {},
   "source": [
    "# 5. Function II"
   ]
  },
  {
   "cell_type": "code",
   "execution_count": null,
   "metadata": {},
   "outputs": [],
   "source": [
    "def suburb_crime_status (suburb, month, offence):\n",
    "#   1.  Read file\n",
    "    df_lib=pd.read_csv('Data/Crime_data.csv', parse_dates=True)\n",
    "    \n",
    "#   2.  Clean Data\n",
    "    df_lib.drop(columns=['Unnamed: 0','Offence Level 1 Description','Offence Level 3 Description'], inplace=True)\n",
    "    df_lib.rename(columns={'Suburb - Incident':'Suburb', 'Postcode - Incident':'Postcode', 'Offence Level 2 Description':'Offence', 'Offence count':'Count'}, inplace=True)\n",
    "    df_lib=df_lib.dropna()\n",
    "\n",
    "    df_lib['Day'],df_lib['Month'],df_lib['Year']= df_lib['Reported Date'].str.split('/',2).str\n",
    "    df_lib['Month']=df_lib['Month'].astype(int)\n",
    "    df_lib['Month'] = df_lib['Month'].apply(lambda x: calendar.month_abbr[x])\n",
    "    \n",
    "#   3.  Data filtering for paramters in the function\n",
    "    df_suburb=df_lib[(df_lib['Suburb']==suburb)]\n",
    "    df_suburb_month=df_suburb[(df_suburb['Month']==month)]\n",
    "    df_suburb_month_offence=df_suburb_month[(df_suburb_month['Offence']==offence)]\n",
    "#   4.  Calculation\n",
    "    df_suburb_month_offence_sum=df_suburb_month_offence.groupby(['Year']).agg({'Count':np.sum})\n",
    "    df_suburb_month_offence_sum=df_suburb_month_offence_sum.reset_index()\n",
    "    \n",
    "#   5.  plotting\n",
    "    \n",
    "    f, ax = plt.subplots(figsize=(25,8))\n",
    "    sns.barplot( x=df_suburb_month_offence_sum['Year'], y=df_suburb_month_offence_sum['Count'])\n",
    "    plt.title('%s Crime status of %s for %s' %(offence, suburb, month), fontsize=18)\n",
    "    \n",
    "    \n",
    "suburb_crime_status ('ADELAIDE', 'Mar', 'THEFT AND RELATED OFFENCES')"
   ]
  }
 ],
 "metadata": {
  "kernelspec": {
   "display_name": "Python 3",
   "language": "python",
   "name": "python3"
  },
  "language_info": {
   "codemirror_mode": {
    "name": "ipython",
    "version": 3
   },
   "file_extension": ".py",
   "mimetype": "text/x-python",
   "name": "python",
   "nbconvert_exporter": "python",
   "pygments_lexer": "ipython3",
   "version": "3.7.4"
  }
 },
 "nbformat": 4,
 "nbformat_minor": 2
}
